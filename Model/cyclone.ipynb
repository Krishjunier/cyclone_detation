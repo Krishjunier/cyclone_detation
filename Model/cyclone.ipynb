{
  "cells": [
    {
      "cell_type": "code",
      "execution_count": null,
      "metadata": {
        "id": "317VnZV24ATp"
      },
      "outputs": [],
      "source": [
        "import numpy as np\n",
        "import pandas as pd\n",
        "import glob\n",
        "import matplotlib.pyplot as plt\n",
        "import tensorflow as tf\n",
        "from tensorflow.keras.models import Sequential\n",
        "from tensorflow.keras.layers import Dense,Dropout,Conv2D, MaxPool2D, Flatten, BatchNormalization\n",
        "from tensorflow.keras.preprocessing.image import ImageDataGenerator, load_img, img_to_array\n",
        "from tensorflow.keras.optimizers import Adam\n",
        "from tensorflow.keras import layers\n",
        "from tensorflow.keras import models\n",
        "from tensorflow.keras.callbacks import ModelCheckpoint\n",
        "from tensorflow.keras import Model, Input\n",
        "from tensorflow.keras.metrics import RootMeanSquaredError\n",
        "from tensorflow.keras.applications.inception_v3 import InceptionV3\n",
        "\n",
        "%matplotlib inline"
      ]
    },
    {
      "cell_type": "code",
      "execution_count": null,
      "metadata": {
        "colab": {
          "base_uri": "https://localhost:8080/"
        },
        "id": "DftYR-Q1_iQt",
        "outputId": "c593391c-921e-4c01-f4cd-f2d4d4568764"
      },
      "outputs": [],
      "source": [
        "from google.colab import drive\n",
        "drive.mount(\"/content/drive\")"
      ]
    },
    {
      "cell_type": "code",
      "execution_count": null,
      "metadata": {
        "colab": {
          "base_uri": "https://localhost:8080/",
          "height": 206
        },
        "id": "YWHkQZT4ecQb",
        "outputId": "3d887c5c-ed17-4754-83f4-9cd780e502e0"
      },
      "outputs": [],
      "source": [
        "df = pd.read_csv('/content/drive/MyDrive/Datasets/cyclone_dataset/insat_3d_ds - Sheet.csv')\n",
        "df.head()"
      ]
    },
    {
      "cell_type": "code",
      "execution_count": null,
      "metadata": {
        "colab": {
          "base_uri": "https://localhost:8080/",
          "height": 1000
        },
        "id": "R_taNQs2_0JS",
        "outputId": "2e75ee6d-fc0d-45f0-8602-57e785b506fa"
      },
      "outputs": [],
      "source": [
        "paths = glob.glob(\"/content/drive/MyDrive/Datasets/cyclone_dataset/insat3d_raw_cyclone_ds/CYCLONE_DATASET_FINAL/*.jpg\")\n",
        "i=1 \n",
        "for path in paths[:30]:\n",
        "  fig = plt.figure(figsize=(25, 35))\n",
        "  ax = fig.add_subplot(6, 5, i)\n",
        "  img = f\"image {i}\"\n",
        "  plt.imshow(load_img(path))\n",
        "  if i<10:\n",
        "    plt.title(f\"10{i}.jpg\")\n",
        "  else:\n",
        "    plt.title(f\"1{i}.jpg\")\n",
        "    \n",
        "  plt.xlabel(img.upper())\n",
        "  i+=1\n",
        "plt.savefig(\"raw_img\")\n"
      ]
    },
    {
      "cell_type": "code",
      "execution_count": null,
      "metadata": {
        "colab": {
          "base_uri": "https://localhost:8080/",
          "height": 1000
        },
        "id": "fpN-dGPv_dNZ",
        "outputId": "b430c894-d5d0-44de-84df-15c2733614c8"
      },
      "outputs": [],
      "source": [
        "hm_path = glob.glob(\"/content/drive/MyDrive/Datasets/cyclone_dataset/insat3d_ir_cyclone_ds/CYCLONE_DATASET_INFRARED/*.jpg\")\n",
        "i=1\n",
        "for path in hm_path[:24]:\n",
        "  fig = plt.figure(figsize=(20,30))\n",
        "  ax = fig.add_subplot(6,4,i)\n",
        "  plt.imshow(load_img(path))\n",
        "  if i<10:\n",
        "    ax.set_title(f\"10{i}\")\n",
        "\n",
        "  else:\n",
        "    ax.set_title(f\"1{i}\")\n",
        "\n",
        "  ax.set_xlabel(f\"IR_IMAGE - {i}\")\n",
        "  i+=1\n",
        "plt.savefig(\"cyclone_infrared_img.svg\")"
      ]
    },
    {
      "cell_type": "code",
      "execution_count": null,
      "metadata": {
        "colab": {
          "base_uri": "https://localhost:8080/",
          "height": 1000
        },
        "id": "0t3KFDUX_f0u",
        "outputId": "768f2113-ceb0-4b5f-c107-19c91587ae39"
      },
      "outputs": [],
      "source": [
        "ref_path = glob.glob(\"/content/drive/MyDrive/Datasets/cyclone_dataset/insat3d_for_reference_ds/CYCLONE_DATASET/*.jpeg\")\n",
        "i=1\n",
        "fig = plt.figure(figsize=(20,30))\n",
        "\n",
        "for path in ref_path[:24]:\n",
        "  ax = fig.add_subplot(6,4,i)\n",
        "  plt.imshow(load_img(path))\n",
        "  ax.set_title(f\"{100+i}\")\n",
        "\n",
        "\n",
        "  ax.set_xlabel(f\"IR_IMAGE - {i}\")\n",
        "  i+=1\n",
        "  plt.axis(\"off\") \n",
        "\n",
        "plt.savefig(\"each_image_analysis.svg\")"
      ]
    },
    {
      "cell_type": "code",
      "execution_count": null,
      "metadata": {
        "id": "I5uBSu9fIWBr"
      },
      "outputs": [],
      "source": []
    },
    {
      "cell_type": "code",
      "execution_count": null,
      "metadata": {
        "id": "oJOXn67tYLkB"
      },
      "outputs": [],
      "source": [
        "def dataset_preparation(path):\n",
        "    x_train=[]\n",
        "    y_train=[]\n",
        "    all_images_path=glob.glob(path+'/*.jpg')\n",
        "    for img_path in all_images_path :\n",
        "            img=load_img(img_path, target_size=(150,150))\n",
        "            img=img_to_array(img)\n",
        "            img=img/255.0\n",
        "            x_train.append(img)\n",
        "    return np.array(x_train)"
      ]
    },
    {
      "cell_type": "code",
      "execution_count": null,
      "metadata": {
        "colab": {
          "base_uri": "https://localhost:8080/"
        },
        "id": "5-hVhBj8ZCAW",
        "outputId": "9102d221-5a08-4420-ac22-6b91400f11e0"
      },
      "outputs": [],
      "source": [
        "path = \"/content/drive/MyDrive/Datasets/cyclone_dataset/insat3d_raw_cyclone_ds/CYCLONE_DATASET_FINAL\"\n",
        "test_path = \"/content/drive/MyDrive/Datasets/cyclone_dataset/insat3d_ir_cyclone_ds/CYCLONE_DATASET_INFRARED\"\n",
        "\n",
        "train_data = dataset_preparation(path)\n",
        "\n",
        "test_data = dataset_preparation(test_path)\n",
        "\n",
        "print(f\"Shape of train data is {train_data.shape}.\")\n",
        "print(f\"Size of train data is {len(train_data)}.\")\n",
        "print(f\"Shape of test data is {test_data.shape}.\")\n",
        "print(f\"Size of test data is {len(test_data)}.\")"
      ]
    },
    {
      "cell_type": "code",
      "execution_count": null,
      "metadata": {
        "colab": {
          "base_uri": "https://localhost:8080/"
        },
        "id": "dfm9HptfQ88c",
        "outputId": "14a5b507-c775-4e8e-8e89-baeb5ec5f614"
      },
      "outputs": [],
      "source": [
        "train_datagen = ImageDataGenerator(rescale=1.0/255)\n",
        "training_data = train_datagen.flow_from_dataframe(dataframe=df,directory='/content/drive/MyDrive/Datasets/cyclone_dataset/insat3d_raw_cyclone_ds/CYCLONE_DATASET_FINAL/',\n",
        "                                                  subset=\"training\",\n",
        "                                               x_col=\"img_name\",y_col=\"label\",target_size=(512, 512),batch_size=16,class_mode='raw')"
      ]
    },
    {
      "cell_type": "code",
      "execution_count": null,
      "metadata": {
        "id": "IfCvdzWFa6pM"
      },
      "outputs": [],
      "source": []
    },
    {
      "cell_type": "code",
      "execution_count": null,
      "metadata": {
        "colab": {
          "base_uri": "https://localhost:8080/"
        },
        "id": "bYBSsuKxRaqB",
        "outputId": "0831f750-ebb8-47ba-ba75-81e96d047806"
      },
      "outputs": [],
      "source": [
        "model = Sequential()\n",
        "\n",
        "model.add(Conv2D(filters=64,kernel_size=(3,3),activation='relu',input_shape=(150,150,3)))\n",
        "model.add(BatchNormalization())\n",
        "model.add(Dropout(0.25))\n",
        "model.add(Conv2D(filters=64,kernel_size=(3,3),activation='relu',input_shape=(150,150,3)))\n",
        "model.add(BatchNormalization())\n",
        "model.add(MaxPool2D(pool_size=(2,2)))\n",
        "model.add(Conv2D(filters=128,kernel_size=(3,3),activation='relu',input_shape=(150,150,3)))\n",
        "model.add(BatchNormalization())\n",
        "model.add(Dropout(0.25))\n",
        "model.add(Conv2D(filters=128,kernel_size=(3,3),activation='relu',input_shape=(150,150,3)))\n",
        "model.add(BatchNormalization())\n",
        "model.add(MaxPool2D(pool_size=(2,2)))\n",
        "model.add(Conv2D(filters=256,kernel_size=(3,3),activation='relu',input_shape=(150,150,3)))\n",
        "model.add(BatchNormalization())\n",
        "model.add(MaxPool2D(pool_size=(2,2)))\n",
        "model.add(Conv2D(filters=256,kernel_size=(3,3),activation='relu',input_shape=(150,150,3)))\n",
        "model.add(BatchNormalization())\n",
        "model.add(MaxPool2D(pool_size=(2,2)))\n",
        "model.add(Conv2D(filters=512,kernel_size=(3,3),activation='relu',input_shape=(150,150,3)))\n",
        "model.add(BatchNormalization())\n",
        "model.add(MaxPool2D(pool_size=(2,2)))\n",
        "model.add(Flatten())\n",
        "model.add(Dense(units=64,activation='relu'))\n",
        "model.add(Dropout(0.33))\n",
        "model.add(Dense(units=16,activation='relu'))\n",
        "model.add(Dropout(0.33))\n",
        "model.add(Dense(units=8,activation='relu'))\n",
        "model.add(Dropout(0.33))\n",
        "model.add(Dense(1,activation='relu'))\n",
        "\n",
        "model.summary()"
      ]
    },
    {
      "cell_type": "code",
      "execution_count": null,
      "metadata": {
        "id": "B7B5gDmia1qz"
      },
      "outputs": [],
      "source": [
        "model.compile(optimizer= Adam(learning_rate=0.01),loss='mae',metrics=['RootMeanSquaredError'])\n"
      ]
    },
    {
      "cell_type": "code",
      "execution_count": null,
      "metadata": {
        "colab": {
          "base_uri": "https://localhost:8080/",
          "height": 1000
        },
        "id": "MPBdxIoDgNUZ",
        "outputId": "2d89e397-09be-4893-cc22-2b464d2f5acb"
      },
      "outputs": [],
      "source": [
        "history = model.fit_generator(\n",
        "       training_data,\n",
        "       epochs=10,\n",
        "       )"
      ]
    },
    {
      "cell_type": "code",
      "execution_count": null,
      "metadata": {
        "colab": {
          "base_uri": "https://localhost:8080/"
        },
        "id": "ESRQOjiEYeTc",
        "outputId": "af3e48cd-43e7-4ace-881d-4ff88f633fd0"
      },
      "outputs": [],
      "source": [
        "pre_trained_model = InceptionV3(weights=\"imagenet\", include_top=False, \n",
        "                                input_tensor=Input(shape=(512, 512, 3)))\n",
        "pre_trained_model.summary()\n",
        "\n",
        "pre_trained_model.trainable = False\n",
        "\n",
        "flatten = pre_trained_model.output\n",
        "flatten = Flatten()(flatten)\n",
        "\n",
        "bboxHead = Dense(64, activation=\"relu\")(flatten)\n",
        "bboxHead = Dense(32, activation=\"relu\")(bboxHead)\n",
        "bboxHead = Dense(1, activation=\"linear\")(bboxHead)\n",
        "\n",
        "model = Model(inputs=pre_trained_model.input, outputs=bboxHead)"
      ]
    },
    {
      "cell_type": "code",
      "execution_count": null,
      "metadata": {
        "colab": {
          "base_uri": "https://localhost:8080/"
        },
        "id": "QAZK9TLRafAG",
        "outputId": "227c6b46-d39e-4790-962d-1c12e438a09c"
      },
      "outputs": [],
      "source": [
        "model.compile(optimizer = Adam(1e-3), \n",
        "             loss = 'mae', \n",
        "             metrics = [RootMeanSquaredError()])\n",
        "\n",
        "call_back = ModelCheckpoint('Model.h5',monitor='loss',verbose=1,save_best_only=True)\n",
        "\n",
        "# Compiling the model with optimizer and loss function\n",
        "\n",
        "model.fit_generator(training_data,epochs=100,callbacks=[call_back])\n"
      ]
    },
    {
      "cell_type": "code",
      "execution_count": null,
      "metadata": {
        "colab": {
          "base_uri": "https://localhost:8080/"
        },
        "id": "PdewyqTfWoqp",
        "outputId": "eaae82b8-b0fb-4556-a570-d70902ad18f7"
      },
      "outputs": [],
      "source": [
        "# Loading the model\n",
        "\n",
        "model = models.load_model('Model.h5')\n",
        "\n",
        "model.evaluate(training_data)"
      ]
    },
    {
      "cell_type": "code",
      "execution_count": null,
      "metadata": {
        "colab": {
          "base_uri": "https://localhost:8080/",
          "height": 441
        },
        "id": "kUqK3gGpiQd-",
        "outputId": "06b4400e-766c-4326-c213-96992b7b36f0"
      },
      "outputs": [],
      "source": [
        "predictions = pd.DataFrame(model.predict(training_data,verbose=1))\n",
        "predictions"
      ]
    },
    {
      "cell_type": "code",
      "execution_count": null,
      "metadata": {
        "colab": {
          "base_uri": "https://localhost:8080/",
          "height": 345
        },
        "id": "KNJCU73ac_GG",
        "outputId": "81a9c6c9-01ca-4403-b489-0c0b7d348c66"
      },
      "outputs": [],
      "source": [
        "# Changing the name of the column\n",
        "predictions.columns = ['Intensity']\n",
        "predictions.head()"
      ]
    },
    {
      "cell_type": "code",
      "execution_count": null,
      "metadata": {
        "id": "DuiRI31nddm-"
      },
      "outputs": [],
      "source": [
        "# Saving the predictions into csv\n",
        "predictions.to_csv('cyclone_intensity')"
      ]
    }
  ],
  "metadata": {
    "accelerator": "GPU",
    "colab": {
      "collapsed_sections": [],
      "provenance": []
    },
    "gpuClass": "standard",
    "kernelspec": {
      "display_name": "Python 3",
      "name": "python3"
    },
    "language_info": {
      "codemirror_mode": {
        "name": "ipython",
        "version": 3
      },
      "file_extension": ".py",
      "mimetype": "text/x-python",
      "name": "python",
      "nbconvert_exporter": "python",
      "pygments_lexer": "ipython3",
      "version": "3.10.9"
    }
  },
  "nbformat": 4,
  "nbformat_minor": 0
}
